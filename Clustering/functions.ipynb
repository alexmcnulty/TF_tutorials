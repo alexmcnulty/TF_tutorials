{
 "cells": [
  {
   "cell_type": "code",
   "execution_count": 15,
   "metadata": {
    "collapsed": false
   },
   "outputs": [],
   "source": [
    "%matplotlib inline  \n",
    "\n",
    "import tensorflow as tf\n",
    "import numpy as np\n",
    "import matplotlib.pyplot as plt"
   ]
  },
  {
   "cell_type": "code",
   "execution_count": 16,
   "metadata": {
    "collapsed": false
   },
   "outputs": [],
   "source": [
    "# Instead of arbitrarily generating points, this is a hack\n",
    "# to generate random points in n distinct clusters\n",
    "\n",
    "def create_samples(n_clusters, n_points):\n",
    "    np.random.seed(42)\n",
    "    slices=[]\n",
    "    centroids=[]\n",
    "    \n",
    "    # for each centroid generate a cluster around it\n",
    "    for i in range(n_clusters):\n",
    "        embiggen_factor = 100\n",
    "        samples = tf.random_normal((n_points, 2),\n",
    "                               mean=0.0, stddev=5.0, dtype=tf.float32, seed=42, name=\"cluster_{}\".format(i))\n",
    "        cur_centroid = (np.random.random((1, 2))* embiggen_factor) - (embiggen_factor/2)\n",
    "        centroids.append(cur_centroid)\n",
    "        samples += cur_centroid\n",
    "        slices.append(samples)\n",
    "    samples = tf.concat(0, slices, name='samples')\n",
    "    centroids = tf.concat(0, centroids, name='centroids')\n",
    "    return centroids, samples"
   ]
  },
  {
   "cell_type": "code",
   "execution_count": 17,
   "metadata": {
    "collapsed": true
   },
   "outputs": [],
   "source": [
    "def plot_clusters(all_samples, centroids, n_points):\n",
    "    # colours for plotting clusters\n",
    "    colour = plt.cm.rainbow(np.linspace(0,1,len(centroids)))\n",
    "    for i, centroid in enumerate(centroids):\n",
    "        samples = all_samples[i*n_points:(i+1)*n_points]\n",
    "        plt.scatter(samples[:,0], samples[:,1], c=colour[i])\n",
    "        plt.plot(centroid[0], centroid[1], markersize=4, marker=\"x\", color='m', mew=5)\n",
    "    plt.show()"
   ]
  },
  {
   "cell_type": "code",
   "execution_count": null,
   "metadata": {
    "collapsed": true
   },
   "outputs": [],
   "source": []
  }
 ],
 "metadata": {
  "kernelspec": {
   "display_name": "Python 3",
   "language": "python",
   "name": "python3"
  },
  "language_info": {
   "codemirror_mode": {
    "name": "ipython",
    "version": 3
   },
   "file_extension": ".py",
   "mimetype": "text/x-python",
   "name": "python",
   "nbconvert_exporter": "python",
   "pygments_lexer": "ipython3",
   "version": "3.5.2"
  }
 },
 "nbformat": 4,
 "nbformat_minor": 0
}
